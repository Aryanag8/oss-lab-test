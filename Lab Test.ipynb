{
 "cells": [
  {
   "cell_type": "code",
   "execution_count": 99,
   "metadata": {},
   "outputs": [
    {
     "name": "stdout",
     "output_type": "stream",
     "text": [
      "Patients: \n",
      " [['1' 'ram' '1' 'info1' 'asthama' 'IV fluid' 'r1' '2300']\n",
      " ['2' 'shyam' '2' 'info2' 'Malaria' 'IV fluids' 'r2' '1000']\n",
      " ['3' 'ABC' '2' 'info3' 'Malaria' 'IV' 'r3' '1002']]\n"
     ]
    }
   ],
   "source": [
    "import numpy as np\n",
    "\n",
    "patients = ([1, \"ram\", 1, \"info1\", \"asthama\", \"IV fluid\", \"r1\", 2300], \n",
    "           [2, \"shyam\", 2, \"info2\", \"Malaria\", 3, \"r2\", 1000],\n",
    "           [3, \"ABC\", 2, \"info3\", \"Malaria\", \"IV\", \"r3\", 1002])\n",
    "\n",
    "p_list = np.array(patients)\n",
    "\n",
    "print(\"Patients: \\n\", p_list)\n",
    "\n"
   ]
  },
  {
   "cell_type": "code",
   "execution_count": 12,
   "metadata": {},
   "outputs": [
    {
     "name": "stdout",
     "output_type": "stream",
     "text": [
      "\n",
      "\n",
      "Doctors: \n",
      "\n",
      "[['D1' 'Dr. Chandra' 'therapist']\n",
      " ['D2' 'Dr. Gaurav' 'surgeon']]\n"
     ]
    }
   ],
   "source": [
    "doctors = ([1, \"Dr. Chandra\", \"therapist\"],\n",
    "          [2, \"Dr. Gaurav\", \"surgeon\"])\n",
    "\n",
    "d_list = np.array(doctors)\n",
    "\n",
    "print(\"\\nDoctors: \\n\")\n",
    "print(d_list)"
   ]
  },
  {
   "cell_type": "code",
   "execution_count": 117,
   "metadata": {},
   "outputs": [],
   "source": [
    "def find_Patients(DID):\n",
    "   return p_list[p_list[:,0] == DID]"
   ]
  },
  {
   "cell_type": "code",
   "execution_count": 132,
   "metadata": {},
   "outputs": [],
   "source": [
    "def update_treat(PID, new_treat):\n",
    "    return p_list[p_list[:,0] == PID,1]==new_treat"
   ]
  },
  {
   "cell_type": "code",
   "execution_count": 120,
   "metadata": {},
   "outputs": [
    {
     "name": "stdout",
     "output_type": "stream",
     "text": [
      "['1' 'ram' '1' 'info1' 'asthama' 'IV fluid' 'r1' '2300']\n"
     ]
    }
   ],
   "source": [
    "find_Patients(1)"
   ]
  },
  {
   "cell_type": "code",
   "execution_count": 124,
   "metadata": {},
   "outputs": [
    {
     "data": {
      "text/plain": [
       "array([['1', 'ram', '1', 'info1', 'asthama', 'IV fluid', 'r1', '2300'],\n",
       "       ['2', 'shyam', '2', 'info2', 'Malaria', 'IV fluids', 'r2', '1000'],\n",
       "       ['3', 'ABC', '2', 'info3', 'Malaria', 'IV', 'r3', '1002']],\n",
       "      dtype='<U11')"
      ]
     },
     "execution_count": 124,
     "metadata": {},
     "output_type": "execute_result"
    }
   ],
   "source": [
    "p_list"
   ]
  },
  {
   "cell_type": "code",
   "execution_count": 133,
   "metadata": {},
   "outputs": [
    {
     "name": "stderr",
     "output_type": "stream",
     "text": [
      "C:\\ProgramData\\Anaconda3\\lib\\site-packages\\ipykernel_launcher.py:2: FutureWarning: elementwise comparison failed; returning scalar instead, but in the future will perform elementwise comparison\n",
      "  \n"
     ]
    },
    {
     "data": {
      "text/plain": [
       "array([], shape=(0, 8), dtype=bool)"
      ]
     },
     "execution_count": 133,
     "metadata": {},
     "output_type": "execute_result"
    }
   ],
   "source": [
    "update_treat(2, 'IV fluids')"
   ]
  },
  {
   "cell_type": "code",
   "execution_count": 134,
   "metadata": {},
   "outputs": [
    {
     "data": {
      "text/plain": [
       "array([['1', 'ram', '1', 'info1', 'asthama', 'IV fluid', 'r1', '2300'],\n",
       "       ['2', 'shyam', '2', 'info2', 'Malaria', 'IV fluids', 'r2', '1000'],\n",
       "       ['3', 'ABC', '2', 'info3', 'Malaria', 'IV', 'r3', '1002']],\n",
       "      dtype='<U11')"
      ]
     },
     "execution_count": 134,
     "metadata": {},
     "output_type": "execute_result"
    }
   ],
   "source": [
    "p_list"
   ]
  },
  {
   "cell_type": "code",
   "execution_count": null,
   "metadata": {},
   "outputs": [],
   "source": []
  }
 ],
 "metadata": {
  "kernelspec": {
   "display_name": "Python 3",
   "language": "python",
   "name": "python3"
  },
  "language_info": {
   "codemirror_mode": {
    "name": "ipython",
    "version": 3
   },
   "file_extension": ".py",
   "mimetype": "text/x-python",
   "name": "python",
   "nbconvert_exporter": "python",
   "pygments_lexer": "ipython3",
   "version": "3.7.3"
  }
 },
 "nbformat": 4,
 "nbformat_minor": 2
}
